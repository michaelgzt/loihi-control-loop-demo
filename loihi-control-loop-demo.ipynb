{
 "cells": [
  {
   "cell_type": "code",
   "execution_count": 1,
   "metadata": {},
   "outputs": [],
   "source": [
    "import sys\n",
    "\n",
    "sys.path.append('./')\n",
    "from loihi_control_loop import *"
   ]
  },
  {
   "cell_type": "markdown",
   "metadata": {},
   "source": [
    "## Network construction ##\n",
    "\n",
    "We construct a 2-layer SNN with 5 neurons in the input layer and 5 neurons in the output layer. To enable online interaction with the spiking neurons on Loihi, we create pseudo connections to the input layer and pseudo spike probe to the output layer. The detailed steps on network construction can be found in `LoihiNetwork.setup_loihi_snn` within `loihi_network.py`.\n",
    "\n",
    "To find the correct axon id for input spike injection, we need to check the input axon id after compiling the network for Loihi. The function below prints the axon id for 5 neurons in the input layer. Suppose we put the 5 neurons in 5 different cores on Loihi, and the printed results show (x, chip_id, core_id, axon_id). We can use these results to determine where we need to send spikes to in the encoder SNIP."
   ]
  },
  {
   "cell_type": "code",
   "execution_count": 2,
   "metadata": {},
   "outputs": [
    {
     "name": "stdout",
     "output_type": "stream",
     "text": [
      "Input Axon Id List: \n",
      "[[(1, 0, 0, 0)], [(1, 0, 1, 0)], [(1, 0, 2, 0)], [(1, 0, 3, 0)], [(1, 0, 4, 0)]]\n",
      "\u001b[1;30mWARNING\u001b[0m:\u001b[34mDRV\u001b[0m:  \u001b[33melementType would be deprecated in 0.9 in favor of messageSize, which provides more flexibility\u001b[0m\n",
      "\u001b[1;30mWARNING\u001b[0m:\u001b[34mDRV\u001b[0m:  \u001b[33melementType would be deprecated in 0.9 in favor of messageSize, which provides more flexibility\u001b[0m\n",
      "NoneHost server up... \n",
      "192.168.0.101\n",
      "5777\n",
      "\u001b[1;30mINFO\u001b[0m:\u001b[34mDRV\u001b[0m:  Running in non-slurm environment on : 192.168.0.101\n",
      "['ssh', '192.168.0.101', '/home/combra/nxsdk-0.9/nxsdk/bin/arm/nx_driver_server', '192.168.0.100', '5777']\n",
      "\u001b[1;30mINFO\u001b[0m:\u001b[34mDRV\u001b[0m:  Connecting to 192.168.0.101:33385\n",
      "\u001b[1;30mINFO\u001b[0m:\u001b[34mDRV\u001b[0m:      Host server up..............Done 0.50s\n",
      "\u001b[1;30mINFO\u001b[0m:\u001b[34mDRV\u001b[0m:      Encoding axons/synapses.....Done 6.34ms\n",
      "\u001b[1;30mINFO\u001b[0m:\u001b[34mDRV\u001b[0m:      Compiling Embedded snips....Done 0.55s\n",
      "\u001b[1;30mINFO\u001b[0m:\u001b[34mHST\u001b[0m:  Args chip=0 cpu=0 /tmp/launcher_chip0_lmt0.bin --chips=1 --remote-relay=1 --epoch=0 \n",
      "\u001b[1;30mINFO\u001b[0m:\u001b[34mHST\u001b[0m:  Lakemont_driver...\n",
      "\u001b[1;30mINFO\u001b[0m:\u001b[34mDRV\u001b[0m:      Booting up..................Done 2.57s\n",
      "\u001b[1;30mINFO\u001b[0m:\u001b[34mDRV\u001b[0m:      Encoding probes.............Done 1.03ms\n",
      "\u001b[1;30mINFO\u001b[0m:\u001b[34mHST\u001b[0m:  chip=0 cpu=0 halted, status=0x0\n"
     ]
    }
   ],
   "source": [
    "check_input_layer_axon_id_list(input_core_list=[0, 1, 2, 3, 4])"
   ]
  },
  {
   "cell_type": "markdown",
   "metadata": {},
   "source": [
    "We can also put all input neurons on the same core on Loihi. We will use the same input core for our demo."
   ]
  },
  {
   "cell_type": "code",
   "execution_count": 3,
   "metadata": {},
   "outputs": [
    {
     "name": "stdout",
     "output_type": "stream",
     "text": [
      "Input Axon Id List: \n",
      "[[(1, 0, 0, 0)], [(1, 0, 0, 1)], [(1, 0, 0, 2)], [(1, 0, 0, 3)], [(1, 0, 0, 4)]]\n",
      "\u001b[1;30mWARNING\u001b[0m:\u001b[34mDRV\u001b[0m:  \u001b[33melementType would be deprecated in 0.9 in favor of messageSize, which provides more flexibility\u001b[0m\n",
      "\u001b[1;30mWARNING\u001b[0m:\u001b[34mDRV\u001b[0m:  \u001b[33melementType would be deprecated in 0.9 in favor of messageSize, which provides more flexibility\u001b[0m\n",
      "NoneHost server up... \n",
      "192.168.0.101\n",
      "5777\n",
      "\u001b[1;30mINFO\u001b[0m:\u001b[34mDRV\u001b[0m:  Running in non-slurm environment on : 192.168.0.101\n",
      "['ssh', '192.168.0.101', '/home/combra/nxsdk-0.9/nxsdk/bin/arm/nx_driver_server', '192.168.0.100', '5777']\n",
      "\u001b[1;30mINFO\u001b[0m:\u001b[34mDRV\u001b[0m:  Connecting to 192.168.0.101:46827\n",
      "\u001b[1;30mINFO\u001b[0m:\u001b[34mDRV\u001b[0m:      Host server up..............Done 0.50s\n",
      "\u001b[1;30mINFO\u001b[0m:\u001b[34mDRV\u001b[0m:      Compiling Embedded snips....Done 0.50s\n",
      "\u001b[1;30mINFO\u001b[0m:\u001b[34mDRV\u001b[0m:      Encoding axons/synapses.....Done 6.74ms\n",
      "\u001b[1;30mINFO\u001b[0m:\u001b[34mHST\u001b[0m:  Args chip=0 cpu=0 /tmp/launcher_chip0_lmt0.bin --chips=1 --remote-relay=1 --epoch=0 \n",
      "\u001b[1;30mINFO\u001b[0m:\u001b[34mHST\u001b[0m:  Lakemont_driver...\n",
      "\u001b[1;30mINFO\u001b[0m:\u001b[34mDRV\u001b[0m:      Booting up..................Done 2.57s\n",
      "\u001b[1;30mINFO\u001b[0m:\u001b[34mDRV\u001b[0m:      Encoding probes.............Done 1.17ms\n",
      "\u001b[1;30mINFO\u001b[0m:\u001b[34mHST\u001b[0m:  chip=0 cpu=0 halted, status=0x0\n"
     ]
    }
   ],
   "source": [
    "check_input_layer_axon_id_list(input_core_list=[0, 0, 0, 0, 0])"
   ]
  },
  {
   "cell_type": "markdown",
   "metadata": {},
   "source": [
    "## Example 1 ##\n",
    "\n",
    "**Control-loop**: 1 Control Iteration = 1 Loihi step\n",
    "\n",
    "**Input**: Host computer gives the list of spikes to encoder SNIP at each Loihi step. Encoder SNIP sends the spikes to corresponding neurons in the input layer.\n",
    "\n",
    "**Output**: Decoder SNIP record spikes from output layer. Decoder SNIP sends the spikes to host computer at each Loihi step.\n",
    "\n",
    "In this example, we inject spikes to input neurons at the first 5 steps of Loihi simulation. Since spikes in Loihi require 1 step to reach post-synaptic neurons, the neurons in the output layer will have the same spiking activity 2 steps after the host computer sends the spikes to Loihi."
   ]
  },
  {
   "cell_type": "code",
   "execution_count": 4,
   "metadata": {},
   "outputs": [
    {
     "name": "stdout",
     "output_type": "stream",
     "text": [
      "\u001b[1;30mWARNING\u001b[0m:\u001b[34mDRV\u001b[0m:  \u001b[33melementType would be deprecated in 0.9 in favor of messageSize, which provides more flexibility\u001b[0m\n",
      "\u001b[1;30mWARNING\u001b[0m:\u001b[34mDRV\u001b[0m:  \u001b[33melementType would be deprecated in 0.9 in favor of messageSize, which provides more flexibility\u001b[0m\n",
      "NoneHost server up... \n",
      "192.168.0.101\n",
      "5777\n",
      "\u001b[1;30mINFO\u001b[0m:\u001b[34mDRV\u001b[0m:  Running in non-slurm environment on : 192.168.0.101\n",
      "['ssh', '192.168.0.101', '/home/combra/nxsdk-0.9/nxsdk/bin/arm/nx_driver_server', '192.168.0.100', '5777']\n",
      "\u001b[1;30mINFO\u001b[0m:\u001b[34mDRV\u001b[0m:  Connecting to 192.168.0.101:41025\n",
      "\u001b[1;30mINFO\u001b[0m:\u001b[34mDRV\u001b[0m:      Host server up..............Done 0.51s\n",
      "\u001b[1;30mINFO\u001b[0m:\u001b[34mDRV\u001b[0m:      Encoding axons/synapses.....Done 1.31ms\n",
      "\u001b[1;30mINFO\u001b[0m:\u001b[34mDRV\u001b[0m:      Compiling Embedded snips....Done 0.50s\n",
      "\u001b[1;30mINFO\u001b[0m:\u001b[34mDRV\u001b[0m:      Encoding probes.............Done 1.95ms\n",
      "\u001b[1;30mINFO\u001b[0m:\u001b[34mHST\u001b[0m:  Args chip=0 cpu=0 /tmp/launcher_chip0_lmt0.bin --chips=1 --remote-relay=1 --epoch=0 \n",
      "\u001b[1;30mINFO\u001b[0m:\u001b[34mHST\u001b[0m:  Lakemont_driver...\n",
      "\u001b[1;30mINFO\u001b[0m:\u001b[34mDRV\u001b[0m:      Booting up..................Done 2.57s\n",
      "\u001b[1;30mINFO\u001b[0m:\u001b[34mDRV\u001b[0m:      Configuring registers.......Done 2.76ms\n",
      "\u001b[1;30mINFO\u001b[0m:\u001b[34mDRV\u001b[0m:      Transferring probes.........Done 2.63ms\n",
      "\u001b[1;30mINFO\u001b[0m:\u001b[34mDRV\u001b[0m:      Transferring spikes.........Done 0.39ms\n",
      "Loihi step:  0  Input Spike:  [1, 0, 0, 0, 0]  Output Spike:  [0, 0, 0, 0, 0]\n",
      "Loihi step:  1  Input Spike:  [0, 1, 0, 0, 0]  Output Spike:  [0, 0, 0, 0, 0]\n",
      "Loihi step:  2  Input Spike:  [0, 0, 1, 0, 0]  Output Spike:  [1, 0, 0, 0, 0]\n",
      "Loihi step:  3  Input Spike:  [0, 0, 0, 1, 0]  Output Spike:  [0, 1, 0, 0, 0]\n",
      "Loihi step:  4  Input Spike:  [0, 0, 0, 0, 1]  Output Spike:  [0, 0, 1, 0, 0]\n",
      "Loihi step:  5  Input Spike:  [0, 0, 0, 0, 0]  Output Spike:  [0, 0, 0, 1, 0]\n",
      "Loihi step:  6  Input Spike:  [0, 0, 0, 0, 0]  Output Spike:  [0, 0, 0, 0, 1]\n",
      "\u001b[1;30mINFO\u001b[0m:\u001b[34mDRV\u001b[0m:      Executing...................Done 1.81ms\n",
      "\u001b[1;30mINFO\u001b[0m:\u001b[34mDRV\u001b[0m:      Processing timeseries.......Done 1.45ms\n",
      "\u001b[1;30mINFO\u001b[0m:\u001b[34mHST\u001b[0m:  chip=0 cpu=0 halted, status=0x0\n"
     ]
    }
   ],
   "source": [
    "run_loihi_spike_online_interaction()"
   ]
  },
  {
   "cell_type": "markdown",
   "metadata": {},
   "source": [
    "## Example 2 ##\n",
    "\n",
    "**Control-loop**: 1 Control Iteration = 10 Loihi steps\n",
    "\n",
    "**Input**: Host computer gives the input current to encoder SNIP at each control interation. Encoder SNIP generates spikes using Integrate-and-Fire neurons equations and sends spikes to corresponding neurons in the input layer during the Loihi steps within the control iteration.\n",
    "\n",
    "**Output**: Decoder SNIP record the number of spikes from output layer during the Loihi steps within the control iteration. Decoder SNIP sends the number of spikes to host computer at each control iteration.\n",
    "\n",
    "In this example, we inject input currents to Loihi at each control iteration. The number of spikes from the output layers shows the result of 10 Loihi steps. Since spikes in Loihi require 1 step to reach post-synaptic neurons, we need to simulate 12 Loihi steps for each control iteration to get 10 Loihi step results."
   ]
  },
  {
   "cell_type": "code",
   "execution_count": 5,
   "metadata": {},
   "outputs": [
    {
     "name": "stdout",
     "output_type": "stream",
     "text": [
      "\u001b[1;30mWARNING\u001b[0m:\u001b[34mDRV\u001b[0m:  \u001b[33melementType would be deprecated in 0.9 in favor of messageSize, which provides more flexibility\u001b[0m\n",
      "\u001b[1;30mWARNING\u001b[0m:\u001b[34mDRV\u001b[0m:  \u001b[33melementType would be deprecated in 0.9 in favor of messageSize, which provides more flexibility\u001b[0m\n",
      "NoneHost server up... \n",
      "192.168.0.101\n",
      "5777\n",
      "\u001b[1;30mINFO\u001b[0m:\u001b[34mDRV\u001b[0m:  Running in non-slurm environment on : 192.168.0.101\n",
      "['ssh', '192.168.0.101', '/home/combra/nxsdk-0.9/nxsdk/bin/arm/nx_driver_server', '192.168.0.100', '5777']\n",
      "\u001b[1;30mINFO\u001b[0m:\u001b[34mDRV\u001b[0m:  Connecting to 192.168.0.101:35059\n",
      "\u001b[1;30mINFO\u001b[0m:\u001b[34mDRV\u001b[0m:      Host server up..............Done 0.44s\n",
      "\u001b[1;30mINFO\u001b[0m:\u001b[34mDRV\u001b[0m:      Encoding axons/synapses.....Done 1.51ms\n",
      "\u001b[1;30mINFO\u001b[0m:\u001b[34mDRV\u001b[0m:      Compiling Embedded snips....Done 0.51s\n",
      "\u001b[1;30mINFO\u001b[0m:\u001b[34mDRV\u001b[0m:      Encoding probes.............Done 0.69ms\n",
      "\u001b[1;30mINFO\u001b[0m:\u001b[34mHST\u001b[0m:  Args chip=0 cpu=0 /tmp/launcher_chip0_lmt0.bin --chips=1 --remote-relay=1 --epoch=0 \n",
      "\u001b[1;30mINFO\u001b[0m:\u001b[34mHST\u001b[0m:  Lakemont_driver...\n",
      "\u001b[1;30mINFO\u001b[0m:\u001b[34mDRV\u001b[0m:      Booting up..................Done 2.57s\n",
      "\u001b[1;30mINFO\u001b[0m:\u001b[34mDRV\u001b[0m:      Configuring registers.......Done 2.78ms\n",
      "\u001b[1;30mINFO\u001b[0m:\u001b[34mDRV\u001b[0m:      Transferring probes.........Done 3.20ms\n",
      "\u001b[1;30mINFO\u001b[0m:\u001b[34mDRV\u001b[0m:      Transferring spikes.........Done 0.35ms\n",
      "Control step:  0  Input Current:  [10, 0, 0, 0, 0]  Output Spike Number:  [1, 0, 0, 0, 0]\n",
      "Control step:  1  Input Current:  [0, 20, 0, 0, 0]  Output Spike Number:  [0, 2, 0, 0, 0]\n",
      "Control step:  2  Input Current:  [0, 0, 30, 0, 0]  Output Spike Number:  [0, 0, 3, 0, 0]\n",
      "Control step:  3  Input Current:  [0, 0, 0, 40, 0]  Output Spike Number:  [0, 0, 0, 4, 0]\n",
      "Control step:  4  Input Current:  [0, 0, 0, 0, 50]  Output Spike Number:  [0, 0, 0, 0, 5]\n",
      "\u001b[1;30mINFO\u001b[0m:\u001b[34mDRV\u001b[0m:      Executing...................Done 1.52ms\n",
      "\u001b[1;30mINFO\u001b[0m:\u001b[34mDRV\u001b[0m:      Processing timeseries.......Done 1.46ms\n",
      "\u001b[1;30mINFO\u001b[0m:\u001b[34mHST\u001b[0m:  chip=0 cpu=0 halted, status=0x0\n"
     ]
    }
   ],
   "source": [
    "run_loihi_window_regular_online_interaction()"
   ]
  },
  {
   "cell_type": "markdown",
   "metadata": {},
   "source": [
    "## Example 3 ##\n",
    "\n",
    "**Control-loop**: 1 Control Iteration = 100 Loihi steps\n",
    "\n",
    "**Input**: Host computer gives the spike probability to encoder SNIP at each control interation. Encoder SNIP generates Poisson spikes and sends spikes to corresponding neurons in the input layer during the Loihi steps within the control iteration.\n",
    "\n",
    "**Output**: Same as in example 2.\n",
    "\n",
    "In this example, we inject spike probability to Loihi at each control iteration. The number of spikes from the output layers shows the result of 100 Loihi steps. Since spikes in Loihi require 1 step to reach post-synaptic neurons, we need to simulate 102 Loihi steps for each control iteration to get 100 Loihi step results."
   ]
  },
  {
   "cell_type": "code",
   "execution_count": 6,
   "metadata": {},
   "outputs": [
    {
     "name": "stdout",
     "output_type": "stream",
     "text": [
      "\u001b[1;30mWARNING\u001b[0m:\u001b[34mDRV\u001b[0m:  \u001b[33melementType would be deprecated in 0.9 in favor of messageSize, which provides more flexibility\u001b[0m\n",
      "\u001b[1;30mWARNING\u001b[0m:\u001b[34mDRV\u001b[0m:  \u001b[33melementType would be deprecated in 0.9 in favor of messageSize, which provides more flexibility\u001b[0m\n",
      "NoneHost server up... \n",
      "192.168.0.101\n",
      "5777\n",
      "\u001b[1;30mINFO\u001b[0m:\u001b[34mDRV\u001b[0m:  Running in non-slurm environment on : 192.168.0.101\n",
      "['ssh', '192.168.0.101', '/home/combra/nxsdk-0.9/nxsdk/bin/arm/nx_driver_server', '192.168.0.100', '5777']\n",
      "\u001b[1;30mINFO\u001b[0m:\u001b[34mDRV\u001b[0m:  Connecting to 192.168.0.101:36361\n",
      "\u001b[1;30mINFO\u001b[0m:\u001b[34mDRV\u001b[0m:      Host server up..............Done 0.50s\n",
      "\u001b[1;30mINFO\u001b[0m:\u001b[34mDRV\u001b[0m:      Encoding axons/synapses.....Done 1.03ms\n",
      "\u001b[1;30mINFO\u001b[0m:\u001b[34mDRV\u001b[0m:      Compiling Embedded snips....Done 0.47s\n",
      "\u001b[1;30mINFO\u001b[0m:\u001b[34mDRV\u001b[0m:      Encoding probes.............Done 2.31ms\n",
      "\u001b[1;30mINFO\u001b[0m:\u001b[34mHST\u001b[0m:  Args chip=0 cpu=0 /tmp/launcher_chip0_lmt0.bin --chips=1 --remote-relay=1 --epoch=0 \n",
      "\u001b[1;30mINFO\u001b[0m:\u001b[34mHST\u001b[0m:  Lakemont_driver...\n",
      "\u001b[1;30mINFO\u001b[0m:\u001b[34mDRV\u001b[0m:      Booting up..................Done 3.17s\n",
      "\u001b[1;30mINFO\u001b[0m:\u001b[34mDRV\u001b[0m:      Configuring registers.......Done 2.74ms\n",
      "\u001b[1;30mINFO\u001b[0m:\u001b[34mDRV\u001b[0m:      Transferring probes.........Done 2.80ms\n",
      "\u001b[1;30mINFO\u001b[0m:\u001b[34mDRV\u001b[0m:      Transferring spikes.........Done 0.52ms\n",
      "Control step:  0  Input Current:  [10, 0, 0, 0, 0]  Output Spike Number:  [11, 0, 0, 0, 0]\n",
      "Control step:  1  Input Current:  [0, 20, 0, 0, 0]  Output Spike Number:  [0, 22, 0, 0, 0]\n",
      "Control step:  2  Input Current:  [0, 0, 30, 0, 0]  Output Spike Number:  [0, 0, 38, 0, 0]\n",
      "Control step:  3  Input Current:  [0, 0, 0, 40, 0]  Output Spike Number:  [0, 0, 0, 41, 0]\n",
      "Control step:  4  Input Current:  [0, 0, 0, 0, 50]  Output Spike Number:  [0, 0, 0, 0, 50]\n",
      "\u001b[1;30mINFO\u001b[0m:\u001b[34mDRV\u001b[0m:      Executing...................Done 1.38ms\n",
      "\u001b[1;30mINFO\u001b[0m:\u001b[34mDRV\u001b[0m:      Processing timeseries.......Done 1.27ms\n",
      "\u001b[1;30mINFO\u001b[0m:\u001b[34mHST\u001b[0m:  chip=0 cpu=0 halted, status=0x0\n"
     ]
    }
   ],
   "source": [
    "run_loihi_window_poisson_online_interaction()"
   ]
  },
  {
   "cell_type": "code",
   "execution_count": null,
   "metadata": {},
   "outputs": [],
   "source": []
  }
 ],
 "metadata": {
  "kernelspec": {
   "display_name": "Python 3",
   "language": "python",
   "name": "python3"
  },
  "language_info": {
   "codemirror_mode": {
    "name": "ipython",
    "version": 3
   },
   "file_extension": ".py",
   "mimetype": "text/x-python",
   "name": "python",
   "nbconvert_exporter": "python",
   "pygments_lexer": "ipython3",
   "version": "3.5.2"
  }
 },
 "nbformat": 4,
 "nbformat_minor": 2
}
